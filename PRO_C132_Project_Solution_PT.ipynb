{
  "nbformat": 4,
  "nbformat_minor": 0,
  "metadata": {
    "colab": {
      "provenance": [],
      "include_colab_link": true
    },
    "kernelspec": {
      "name": "python3",
      "display_name": "Python 3"
    },
    "language_info": {
      "name": "python"
    }
  },
  "cells": [
    {
      "cell_type": "markdown",
      "metadata": {
        "id": "view-in-github",
        "colab_type": "text"
      },
      "source": [
        "<a href=\"https://colab.research.google.com/github/ByjusBrazil/PRO_1-4_C132_AtividadeDaProfessora7/blob/main/PRO_C132_Project_Solution_PT.ipynb\" target=\"_parent\"><img src=\"https://colab.research.google.com/assets/colab-badge.svg\" alt=\"Open In Colab\"/></a>"
      ]
    },
    {
      "cell_type": "code",
      "execution_count": null,
      "metadata": {
        "colab": {
          "base_uri": "https://localhost:8080/"
        },
        "id": "tIntWdKdvGKX",
        "outputId": "0ecd1634-7841-4bb6-96cb-59ba55b65931"
      },
      "outputs": [
        {
          "output_type": "stream",
          "name": "stdout",
          "text": [
            "Cloning into 'PRO_1-1_C115_ProductDataset'...\n",
            "remote: Enumerating objects: 6, done.\u001b[K\n",
            "remote: Counting objects: 100% (6/6), done.\u001b[K\n",
            "remote: Compressing objects: 100% (4/4), done.\u001b[K\n",
            "remote: Total 6 (delta 1), reused 6 (delta 1), pack-reused 0\u001b[K\n",
            "Unpacking objects: 100% (6/6), 9.00 KiB | 4.50 MiB/s, done.\n"
          ]
        }
      ],
      "source": [
        "!git clone https://github.com/ByjusBrazil/PRO_1-1_C115_ProductDataset"
      ]
    },
    {
      "cell_type": "code",
      "source": [
        "import pandas as pd\n",
        "dataframe = pd.read_excel(\"/content/PRO_1-1_C115_ProductDataset/updated_product_dataset.xlsx\")\n",
        "dataframe.head()"
      ],
      "metadata": {
        "colab": {
          "base_uri": "https://localhost:8080/",
          "height": 206
        },
        "id": "48tzbjM4vzHg",
        "outputId": "373a598f-b68e-4eae-94ee-bebe18fca7de"
      },
      "execution_count": null,
      "outputs": [
        {
          "output_type": "execute_result",
          "data": {
            "text/plain": [
              "     Emoção                                              Texto\n",
              "0  Positiva  ótimo pad amo ddr não quero pad de metal funci...\n",
              "1  Positiva  excelente pad ótimo produto altamente responsi...\n",
              "2  Positiva  incrível ótimo ddr pad funciona perfeitamente ...\n",
              "3  Positiva  amo esperar deslizamento não muito feliz dia 1...\n",
              "4  Positiva  preço de boa qualidade preço de boa qualidade ..."
            ],
            "text/html": [
              "\n",
              "  <div id=\"df-acc9f92e-0fbe-4df3-81a1-ba7d6ebe00db\">\n",
              "    <div class=\"colab-df-container\">\n",
              "      <div>\n",
              "<style scoped>\n",
              "    .dataframe tbody tr th:only-of-type {\n",
              "        vertical-align: middle;\n",
              "    }\n",
              "\n",
              "    .dataframe tbody tr th {\n",
              "        vertical-align: top;\n",
              "    }\n",
              "\n",
              "    .dataframe thead th {\n",
              "        text-align: right;\n",
              "    }\n",
              "</style>\n",
              "<table border=\"1\" class=\"dataframe\">\n",
              "  <thead>\n",
              "    <tr style=\"text-align: right;\">\n",
              "      <th></th>\n",
              "      <th>Emoção</th>\n",
              "      <th>Texto</th>\n",
              "    </tr>\n",
              "  </thead>\n",
              "  <tbody>\n",
              "    <tr>\n",
              "      <th>0</th>\n",
              "      <td>Positiva</td>\n",
              "      <td>ótimo pad amo ddr não quero pad de metal funci...</td>\n",
              "    </tr>\n",
              "    <tr>\n",
              "      <th>1</th>\n",
              "      <td>Positiva</td>\n",
              "      <td>excelente pad ótimo produto altamente responsi...</td>\n",
              "    </tr>\n",
              "    <tr>\n",
              "      <th>2</th>\n",
              "      <td>Positiva</td>\n",
              "      <td>incrível ótimo ddr pad funciona perfeitamente ...</td>\n",
              "    </tr>\n",
              "    <tr>\n",
              "      <th>3</th>\n",
              "      <td>Positiva</td>\n",
              "      <td>amo esperar deslizamento não muito feliz dia 1...</td>\n",
              "    </tr>\n",
              "    <tr>\n",
              "      <th>4</th>\n",
              "      <td>Positiva</td>\n",
              "      <td>preço de boa qualidade preço de boa qualidade ...</td>\n",
              "    </tr>\n",
              "  </tbody>\n",
              "</table>\n",
              "</div>\n",
              "      <button class=\"colab-df-convert\" onclick=\"convertToInteractive('df-acc9f92e-0fbe-4df3-81a1-ba7d6ebe00db')\"\n",
              "              title=\"Convert this dataframe to an interactive table.\"\n",
              "              style=\"display:none;\">\n",
              "        \n",
              "  <svg xmlns=\"http://www.w3.org/2000/svg\" height=\"24px\"viewBox=\"0 0 24 24\"\n",
              "       width=\"24px\">\n",
              "    <path d=\"M0 0h24v24H0V0z\" fill=\"none\"/>\n",
              "    <path d=\"M18.56 5.44l.94 2.06.94-2.06 2.06-.94-2.06-.94-.94-2.06-.94 2.06-2.06.94zm-11 1L8.5 8.5l.94-2.06 2.06-.94-2.06-.94L8.5 2.5l-.94 2.06-2.06.94zm10 10l.94 2.06.94-2.06 2.06-.94-2.06-.94-.94-2.06-.94 2.06-2.06.94z\"/><path d=\"M17.41 7.96l-1.37-1.37c-.4-.4-.92-.59-1.43-.59-.52 0-1.04.2-1.43.59L10.3 9.45l-7.72 7.72c-.78.78-.78 2.05 0 2.83L4 21.41c.39.39.9.59 1.41.59.51 0 1.02-.2 1.41-.59l7.78-7.78 2.81-2.81c.8-.78.8-2.07 0-2.86zM5.41 20L4 18.59l7.72-7.72 1.47 1.35L5.41 20z\"/>\n",
              "  </svg>\n",
              "      </button>\n",
              "      \n",
              "  <style>\n",
              "    .colab-df-container {\n",
              "      display:flex;\n",
              "      flex-wrap:wrap;\n",
              "      gap: 12px;\n",
              "    }\n",
              "\n",
              "    .colab-df-convert {\n",
              "      background-color: #E8F0FE;\n",
              "      border: none;\n",
              "      border-radius: 50%;\n",
              "      cursor: pointer;\n",
              "      display: none;\n",
              "      fill: #1967D2;\n",
              "      height: 32px;\n",
              "      padding: 0 0 0 0;\n",
              "      width: 32px;\n",
              "    }\n",
              "\n",
              "    .colab-df-convert:hover {\n",
              "      background-color: #E2EBFA;\n",
              "      box-shadow: 0px 1px 2px rgba(60, 64, 67, 0.3), 0px 1px 3px 1px rgba(60, 64, 67, 0.15);\n",
              "      fill: #174EA6;\n",
              "    }\n",
              "\n",
              "    [theme=dark] .colab-df-convert {\n",
              "      background-color: #3B4455;\n",
              "      fill: #D2E3FC;\n",
              "    }\n",
              "\n",
              "    [theme=dark] .colab-df-convert:hover {\n",
              "      background-color: #434B5C;\n",
              "      box-shadow: 0px 1px 3px 1px rgba(0, 0, 0, 0.15);\n",
              "      filter: drop-shadow(0px 1px 2px rgba(0, 0, 0, 0.3));\n",
              "      fill: #FFFFFF;\n",
              "    }\n",
              "  </style>\n",
              "\n",
              "      <script>\n",
              "        const buttonEl =\n",
              "          document.querySelector('#df-acc9f92e-0fbe-4df3-81a1-ba7d6ebe00db button.colab-df-convert');\n",
              "        buttonEl.style.display =\n",
              "          google.colab.kernel.accessAllowed ? 'block' : 'none';\n",
              "\n",
              "        async function convertToInteractive(key) {\n",
              "          const element = document.querySelector('#df-acc9f92e-0fbe-4df3-81a1-ba7d6ebe00db');\n",
              "          const dataTable =\n",
              "            await google.colab.kernel.invokeFunction('convertToInteractive',\n",
              "                                                     [key], {});\n",
              "          if (!dataTable) return;\n",
              "\n",
              "          const docLinkHtml = 'Like what you see? Visit the ' +\n",
              "            '<a target=\"_blank\" href=https://colab.research.google.com/notebooks/data_table.ipynb>data table notebook</a>'\n",
              "            + ' to learn more about interactive tables.';\n",
              "          element.innerHTML = '';\n",
              "          dataTable['output_type'] = 'display_data';\n",
              "          await google.colab.output.renderOutput(dataTable, element);\n",
              "          const docLink = document.createElement('div');\n",
              "          docLink.innerHTML = docLinkHtml;\n",
              "          element.appendChild(docLink);\n",
              "        }\n",
              "      </script>\n",
              "    </div>\n",
              "  </div>\n",
              "  "
            ]
          },
          "metadata": {},
          "execution_count": 2
        }
      ]
    },
    {
      "cell_type": "code",
      "source": [
        "dataframe[\"Emoção\"].unique()"
      ],
      "metadata": {
        "colab": {
          "base_uri": "https://localhost:8080/"
        },
        "id": "kOA1GZHqvzMM",
        "outputId": "e77c4c0e-b5db-41b4-ebee-ca2b2aa6d56f"
      },
      "execution_count": null,
      "outputs": [
        {
          "output_type": "execute_result",
          "data": {
            "text/plain": [
              "array(['Positiva', 'Negativa', 'Neutra'], dtype=object)"
            ]
          },
          "metadata": {},
          "execution_count": 5
        }
      ]
    },
    {
      "cell_type": "code",
      "source": [
        "encode_emotions = {\"Neutra\": 0, \"Positiva\": 1, \"Negativa\": 2}"
      ],
      "metadata": {
        "id": "s1EjYd5WvzOE"
      },
      "execution_count": null,
      "outputs": []
    },
    {
      "cell_type": "code",
      "source": [
        "dataframe.replace(encode_emotions, inplace = True)\n",
        "dataframe.head()"
      ],
      "metadata": {
        "colab": {
          "base_uri": "https://localhost:8080/",
          "height": 206
        },
        "id": "c60PGpy8vzUk",
        "outputId": "6ee4aace-8070-4c53-e972-dd13dc2d01f8"
      },
      "execution_count": null,
      "outputs": [
        {
          "output_type": "execute_result",
          "data": {
            "text/plain": [
              "   Emoção                                              Texto\n",
              "0       1  ótimo pad amo ddr não quero pad de metal funci...\n",
              "1       1  excelente pad ótimo produto altamente responsi...\n",
              "2       1  incrível ótimo ddr pad funciona perfeitamente ...\n",
              "3       1  amo esperar deslizamento não muito feliz dia 1...\n",
              "4       1  preço de boa qualidade preço de boa qualidade ..."
            ],
            "text/html": [
              "\n",
              "  <div id=\"df-5304319b-59e5-40ce-ba95-b0525562c477\">\n",
              "    <div class=\"colab-df-container\">\n",
              "      <div>\n",
              "<style scoped>\n",
              "    .dataframe tbody tr th:only-of-type {\n",
              "        vertical-align: middle;\n",
              "    }\n",
              "\n",
              "    .dataframe tbody tr th {\n",
              "        vertical-align: top;\n",
              "    }\n",
              "\n",
              "    .dataframe thead th {\n",
              "        text-align: right;\n",
              "    }\n",
              "</style>\n",
              "<table border=\"1\" class=\"dataframe\">\n",
              "  <thead>\n",
              "    <tr style=\"text-align: right;\">\n",
              "      <th></th>\n",
              "      <th>Emoção</th>\n",
              "      <th>Texto</th>\n",
              "    </tr>\n",
              "  </thead>\n",
              "  <tbody>\n",
              "    <tr>\n",
              "      <th>0</th>\n",
              "      <td>1</td>\n",
              "      <td>ótimo pad amo ddr não quero pad de metal funci...</td>\n",
              "    </tr>\n",
              "    <tr>\n",
              "      <th>1</th>\n",
              "      <td>1</td>\n",
              "      <td>excelente pad ótimo produto altamente responsi...</td>\n",
              "    </tr>\n",
              "    <tr>\n",
              "      <th>2</th>\n",
              "      <td>1</td>\n",
              "      <td>incrível ótimo ddr pad funciona perfeitamente ...</td>\n",
              "    </tr>\n",
              "    <tr>\n",
              "      <th>3</th>\n",
              "      <td>1</td>\n",
              "      <td>amo esperar deslizamento não muito feliz dia 1...</td>\n",
              "    </tr>\n",
              "    <tr>\n",
              "      <th>4</th>\n",
              "      <td>1</td>\n",
              "      <td>preço de boa qualidade preço de boa qualidade ...</td>\n",
              "    </tr>\n",
              "  </tbody>\n",
              "</table>\n",
              "</div>\n",
              "      <button class=\"colab-df-convert\" onclick=\"convertToInteractive('df-5304319b-59e5-40ce-ba95-b0525562c477')\"\n",
              "              title=\"Convert this dataframe to an interactive table.\"\n",
              "              style=\"display:none;\">\n",
              "        \n",
              "  <svg xmlns=\"http://www.w3.org/2000/svg\" height=\"24px\"viewBox=\"0 0 24 24\"\n",
              "       width=\"24px\">\n",
              "    <path d=\"M0 0h24v24H0V0z\" fill=\"none\"/>\n",
              "    <path d=\"M18.56 5.44l.94 2.06.94-2.06 2.06-.94-2.06-.94-.94-2.06-.94 2.06-2.06.94zm-11 1L8.5 8.5l.94-2.06 2.06-.94-2.06-.94L8.5 2.5l-.94 2.06-2.06.94zm10 10l.94 2.06.94-2.06 2.06-.94-2.06-.94-.94-2.06-.94 2.06-2.06.94z\"/><path d=\"M17.41 7.96l-1.37-1.37c-.4-.4-.92-.59-1.43-.59-.52 0-1.04.2-1.43.59L10.3 9.45l-7.72 7.72c-.78.78-.78 2.05 0 2.83L4 21.41c.39.39.9.59 1.41.59.51 0 1.02-.2 1.41-.59l7.78-7.78 2.81-2.81c.8-.78.8-2.07 0-2.86zM5.41 20L4 18.59l7.72-7.72 1.47 1.35L5.41 20z\"/>\n",
              "  </svg>\n",
              "      </button>\n",
              "      \n",
              "  <style>\n",
              "    .colab-df-container {\n",
              "      display:flex;\n",
              "      flex-wrap:wrap;\n",
              "      gap: 12px;\n",
              "    }\n",
              "\n",
              "    .colab-df-convert {\n",
              "      background-color: #E8F0FE;\n",
              "      border: none;\n",
              "      border-radius: 50%;\n",
              "      cursor: pointer;\n",
              "      display: none;\n",
              "      fill: #1967D2;\n",
              "      height: 32px;\n",
              "      padding: 0 0 0 0;\n",
              "      width: 32px;\n",
              "    }\n",
              "\n",
              "    .colab-df-convert:hover {\n",
              "      background-color: #E2EBFA;\n",
              "      box-shadow: 0px 1px 2px rgba(60, 64, 67, 0.3), 0px 1px 3px 1px rgba(60, 64, 67, 0.15);\n",
              "      fill: #174EA6;\n",
              "    }\n",
              "\n",
              "    [theme=dark] .colab-df-convert {\n",
              "      background-color: #3B4455;\n",
              "      fill: #D2E3FC;\n",
              "    }\n",
              "\n",
              "    [theme=dark] .colab-df-convert:hover {\n",
              "      background-color: #434B5C;\n",
              "      box-shadow: 0px 1px 3px 1px rgba(0, 0, 0, 0.15);\n",
              "      filter: drop-shadow(0px 1px 2px rgba(0, 0, 0, 0.3));\n",
              "      fill: #FFFFFF;\n",
              "    }\n",
              "  </style>\n",
              "\n",
              "      <script>\n",
              "        const buttonEl =\n",
              "          document.querySelector('#df-5304319b-59e5-40ce-ba95-b0525562c477 button.colab-df-convert');\n",
              "        buttonEl.style.display =\n",
              "          google.colab.kernel.accessAllowed ? 'block' : 'none';\n",
              "\n",
              "        async function convertToInteractive(key) {\n",
              "          const element = document.querySelector('#df-5304319b-59e5-40ce-ba95-b0525562c477');\n",
              "          const dataTable =\n",
              "            await google.colab.kernel.invokeFunction('convertToInteractive',\n",
              "                                                     [key], {});\n",
              "          if (!dataTable) return;\n",
              "\n",
              "          const docLinkHtml = 'Like what you see? Visit the ' +\n",
              "            '<a target=\"_blank\" href=https://colab.research.google.com/notebooks/data_table.ipynb>data table notebook</a>'\n",
              "            + ' to learn more about interactive tables.';\n",
              "          element.innerHTML = '';\n",
              "          dataTable['output_type'] = 'display_data';\n",
              "          await google.colab.output.renderOutput(dataTable, element);\n",
              "          const docLink = document.createElement('div');\n",
              "          docLink.innerHTML = docLinkHtml;\n",
              "          element.appendChild(docLink);\n",
              "        }\n",
              "      </script>\n",
              "    </div>\n",
              "  </div>\n",
              "  "
            ]
          },
          "metadata": {},
          "execution_count": 7
        }
      ]
    },
    {
      "cell_type": "code",
      "source": [
        "# Converta o Dataframe em uma lista de conjuntos de dados\n",
        "\n",
        "training_sentences = []\n",
        "training_labels = []\n",
        "\n",
        "for i in range(len(dataframe)):\n",
        "  sentence = dataframe.loc[i, \"Texto\"]\n",
        "  training_sentences.append(sentence)\n",
        "  label = dataframe.loc[i, \"Emoção\"]\n",
        "  training_labels.append(label)\n"
      ],
      "metadata": {
        "id": "4UVD5WkBvzWY"
      },
      "execution_count": null,
      "outputs": []
    },
    {
      "cell_type": "code",
      "source": [
        "training_sentences[10], training_labels[10]"
      ],
      "metadata": {
        "colab": {
          "base_uri": "https://localhost:8080/"
        },
        "id": "NBGgKh1YvzaA",
        "outputId": "57bc656b-273f-4962-ab58-f06372ff5d2f"
      },
      "execution_count": null,
      "outputs": [
        {
          "output_type": "execute_result",
          "data": {
            "text/plain": [
              "('decepcionado lento tirar fotos', 0)"
            ]
          },
          "metadata": {},
          "execution_count": 9
        }
      ]
    },
    {
      "cell_type": "code",
      "source": [
        "import tensorflow as tf\n",
        "\n",
        "from tensorflow.keras.preprocessing.text import Tokenizer\n",
        "from tensorflow.keras.preprocessing.sequence import pad_sequences\n",
        "\n",
        "vocab_size = 10000\n",
        "embedding_dim = 16\n",
        "max_length = 100\n",
        "trunc_type='post'\n",
        "padding_type='post'\n",
        "oov_tok = \"<OOV>\"\n",
        "training_size = 20000\n",
        "\n",
        "tokenizer = Tokenizer(num_words=vocab_size, oov_token=oov_tok)\n",
        "tokenizer.fit_on_texts(training_sentences)\n",
        "\n",
        "word_index = tokenizer.word_index\n",
        "\n",
        "training_sequences = tokenizer.texts_to_sequences(training_sentences)\n",
        "training_padded = pad_sequences(training_sequences, maxlen=max_length, padding=padding_type, truncating=trunc_type)"
      ],
      "metadata": {
        "id": "kj92nl0rvzbe"
      },
      "execution_count": null,
      "outputs": []
    },
    {
      "cell_type": "code",
      "source": [
        "import numpy as np\n",
        "\n",
        "training_padded = np.array(training_padded)\n",
        "training_labels = np.array(training_labels)"
      ],
      "metadata": {
        "id": "dW3amuo-vzfE"
      },
      "execution_count": null,
      "outputs": []
    },
    {
      "cell_type": "code",
      "source": [
        "from tensorflow.keras.models import Sequential\n",
        "from tensorflow.keras.layers import Embedding, LSTM, Dense\n",
        "from tensorflow.keras.layers import Conv1D, Dropout, MaxPooling1D\n",
        "\n",
        "model = tf.keras.Sequential([\n",
        "        Embedding(vocab_size, embedding_dim, input_length=max_length),\n",
        "        Dropout(0.2),\n",
        "        Conv1D(filters = 256, kernel_size = 3, activation = \"relu\"),\n",
        "        MaxPooling1D(pool_size = 3),\n",
        "        Conv1D(filters = 128, kernel_size = 3, activation = \"relu\"),\n",
        "        MaxPooling1D(pool_size = 3),\n",
        "        LSTM(128),\n",
        "        Dense(128, activation = \"relu\"),\n",
        "        Dropout(0.2),\n",
        "        Dense(64, activation = \"relu\"),\n",
        "        Dense(3, activation = \"softmax\")\n",
        "])\n",
        "model.compile(loss='sparse_categorical_crossentropy',optimizer='adam',metrics=['accuracy'])"
      ],
      "metadata": {
        "id": "nMnoCTiXvzgm"
      },
      "execution_count": null,
      "outputs": []
    },
    {
      "cell_type": "code",
      "source": [
        "model.summary()"
      ],
      "metadata": {
        "colab": {
          "base_uri": "https://localhost:8080/"
        },
        "id": "E8YPbW6mvzk1",
        "outputId": "d0cf0fa3-253e-44fc-eb4b-f7b46dbb9b42"
      },
      "execution_count": null,
      "outputs": [
        {
          "output_type": "stream",
          "name": "stdout",
          "text": [
            "Model: \"sequential\"\n",
            "_________________________________________________________________\n",
            " Layer (type)                Output Shape              Param #   \n",
            "=================================================================\n",
            " embedding (Embedding)       (None, 100, 16)           160000    \n",
            "                                                                 \n",
            " dropout (Dropout)           (None, 100, 16)           0         \n",
            "                                                                 \n",
            " conv1d (Conv1D)             (None, 98, 256)           12544     \n",
            "                                                                 \n",
            " max_pooling1d (MaxPooling1D  (None, 32, 256)          0         \n",
            " )                                                               \n",
            "                                                                 \n",
            " conv1d_1 (Conv1D)           (None, 30, 128)           98432     \n",
            "                                                                 \n",
            " max_pooling1d_1 (MaxPooling  (None, 10, 128)          0         \n",
            " 1D)                                                             \n",
            "                                                                 \n",
            " lstm (LSTM)                 (None, 128)               131584    \n",
            "                                                                 \n",
            " dense (Dense)               (None, 128)               16512     \n",
            "                                                                 \n",
            " dropout_1 (Dropout)         (None, 128)               0         \n",
            "                                                                 \n",
            " dense_1 (Dense)             (None, 64)                8256      \n",
            "                                                                 \n",
            " dense_2 (Dense)             (None, 3)                 195       \n",
            "                                                                 \n",
            "=================================================================\n",
            "Total params: 427,523\n",
            "Trainable params: 427,523\n",
            "Non-trainable params: 0\n",
            "_________________________________________________________________\n"
          ]
        }
      ]
    },
    {
      "cell_type": "code",
      "source": [
        "num_epochs = 30\n",
        "history = model.fit(training_padded, training_labels, epochs=num_epochs, verbose=2)"
      ],
      "metadata": {
        "colab": {
          "base_uri": "https://localhost:8080/"
        },
        "id": "DgX_fkNSwKxw",
        "outputId": "c6f9a6c7-5a66-43fe-ec33-dd04d7f68832"
      },
      "execution_count": null,
      "outputs": [
        {
          "output_type": "stream",
          "name": "stdout",
          "text": [
            "Epoch 1/30\n",
            "1/1 - 3s - loss: 1.0992 - accuracy: 0.2667 - 3s/epoch - 3s/step\n",
            "Epoch 2/30\n",
            "1/1 - 0s - loss: 1.0986 - accuracy: 0.1333 - 32ms/epoch - 32ms/step\n",
            "Epoch 3/30\n",
            "1/1 - 0s - loss: 1.0977 - accuracy: 0.4667 - 32ms/epoch - 32ms/step\n",
            "Epoch 4/30\n",
            "1/1 - 0s - loss: 1.1003 - accuracy: 0.1333 - 34ms/epoch - 34ms/step\n",
            "Epoch 5/30\n",
            "1/1 - 0s - loss: 1.0986 - accuracy: 0.2667 - 31ms/epoch - 31ms/step\n",
            "Epoch 6/30\n",
            "1/1 - 0s - loss: 1.0960 - accuracy: 0.4000 - 31ms/epoch - 31ms/step\n",
            "Epoch 7/30\n",
            "1/1 - 0s - loss: 1.0984 - accuracy: 0.3333 - 30ms/epoch - 30ms/step\n",
            "Epoch 8/30\n",
            "1/1 - 0s - loss: 1.0961 - accuracy: 0.4000 - 31ms/epoch - 31ms/step\n",
            "Epoch 9/30\n",
            "1/1 - 0s - loss: 1.1001 - accuracy: 0.2667 - 30ms/epoch - 30ms/step\n",
            "Epoch 10/30\n",
            "1/1 - 0s - loss: 1.0942 - accuracy: 0.2667 - 30ms/epoch - 30ms/step\n",
            "Epoch 11/30\n",
            "1/1 - 0s - loss: 1.1012 - accuracy: 0.4000 - 37ms/epoch - 37ms/step\n",
            "Epoch 12/30\n",
            "1/1 - 0s - loss: 1.1106 - accuracy: 0.2667 - 38ms/epoch - 38ms/step\n",
            "Epoch 13/30\n",
            "1/1 - 0s - loss: 1.1020 - accuracy: 0.2667 - 30ms/epoch - 30ms/step\n",
            "Epoch 14/30\n",
            "1/1 - 0s - loss: 1.1008 - accuracy: 0.3333 - 28ms/epoch - 28ms/step\n",
            "Epoch 15/30\n",
            "1/1 - 0s - loss: 1.0988 - accuracy: 0.2667 - 49ms/epoch - 49ms/step\n",
            "Epoch 16/30\n",
            "1/1 - 0s - loss: 1.0976 - accuracy: 0.4000 - 52ms/epoch - 52ms/step\n",
            "Epoch 17/30\n",
            "1/1 - 0s - loss: 1.1045 - accuracy: 0.2667 - 47ms/epoch - 47ms/step\n",
            "Epoch 18/30\n",
            "1/1 - 0s - loss: 1.0900 - accuracy: 0.5333 - 51ms/epoch - 51ms/step\n",
            "Epoch 19/30\n",
            "1/1 - 0s - loss: 1.1011 - accuracy: 0.2000 - 45ms/epoch - 45ms/step\n",
            "Epoch 20/30\n",
            "1/1 - 0s - loss: 1.0989 - accuracy: 0.3333 - 54ms/epoch - 54ms/step\n",
            "Epoch 21/30\n",
            "1/1 - 0s - loss: 1.0935 - accuracy: 0.3333 - 48ms/epoch - 48ms/step\n",
            "Epoch 22/30\n",
            "1/1 - 0s - loss: 1.0943 - accuracy: 0.4000 - 49ms/epoch - 49ms/step\n",
            "Epoch 23/30\n",
            "1/1 - 0s - loss: 1.1038 - accuracy: 0.2667 - 49ms/epoch - 49ms/step\n",
            "Epoch 24/30\n",
            "1/1 - 0s - loss: 1.0981 - accuracy: 0.2667 - 49ms/epoch - 49ms/step\n",
            "Epoch 25/30\n",
            "1/1 - 0s - loss: 1.1005 - accuracy: 0.3333 - 48ms/epoch - 48ms/step\n",
            "Epoch 26/30\n",
            "1/1 - 0s - loss: 1.0970 - accuracy: 0.4000 - 49ms/epoch - 49ms/step\n",
            "Epoch 27/30\n",
            "1/1 - 0s - loss: 1.0930 - accuracy: 0.3333 - 48ms/epoch - 48ms/step\n",
            "Epoch 28/30\n",
            "1/1 - 0s - loss: 1.0989 - accuracy: 0.2667 - 49ms/epoch - 49ms/step\n",
            "Epoch 29/30\n",
            "1/1 - 0s - loss: 1.1004 - accuracy: 0.4000 - 46ms/epoch - 46ms/step\n",
            "Epoch 30/30\n",
            "1/1 - 0s - loss: 1.0949 - accuracy: 0.4000 - 45ms/epoch - 45ms/step\n"
          ]
        }
      ]
    },
    {
      "cell_type": "code",
      "source": [
        "model.save(\"Customer_Review_Text_Emotion.h5\")"
      ],
      "metadata": {
        "id": "MU2C_Mm9wRc2"
      },
      "execution_count": null,
      "outputs": []
    },
    {
      "cell_type": "code",
      "source": [
        "from tensorflow.keras.models import load_model\n",
        "model = load_model('/content/Customer_Review_Text_Emotion.h5')\n",
        "sentence = [\"Ótimo telefone para comprar. É uma compra incrível com ótima duração da bateria\"]\n",
        "sequences = tokenizer.texts_to_sequences(sentence)\n",
        "print(sequences)\n",
        "padded = pad_sequences(sequences, maxlen=max_length, padding=padding_type, truncating=trunc_type)\n",
        "print(padded)\n",
        "result = model.predict(padded)\n",
        "print(result)\n",
        "label = np.argmax(result , axis=1)\n",
        "label = int(label)\n",
        "\n",
        "# encode_emotions = {\"Neutro\": 0, \"Positiva\": 1, \"Negativa\": 2}\n",
        "for emotion in encode_emotions:\n",
        "  if encode_emotions[emotion] == label:\n",
        "    print(f\"sentiment : {emotion} , label : {label}\")"
      ],
      "metadata": {
        "colab": {
          "base_uri": "https://localhost:8080/"
        },
        "id": "jHDgLDzqwK-F",
        "outputId": "28033f90-f61d-4b1f-ada7-d932a78ac322"
      },
      "execution_count": null,
      "outputs": [
        {
          "output_type": "stream",
          "name": "stdout",
          "text": [
            "[[3, 1, 50, 1, 109, 1, 1, 40, 1, 1, 1, 95, 1]]\n",
            "[[  3   1  50   1 109   1   1  40   1   1   1  95   1   0   0   0   0   0\n",
            "    0   0   0   0   0   0   0   0   0   0   0   0   0   0   0   0   0   0\n",
            "    0   0   0   0   0   0   0   0   0   0   0   0   0   0   0   0   0   0\n",
            "    0   0   0   0   0   0   0   0   0   0   0   0   0   0   0   0   0   0\n",
            "    0   0   0   0   0   0   0   0   0   0   0   0   0   0   0   0   0   0\n",
            "    0   0   0   0   0   0   0   0   0   0]]\n",
            "1/1 [==============================] - 1s 653ms/step\n",
            "[[0.33734295 0.33622566 0.32643136]]\n",
            "sentiment : Neutra , label : 0\n"
          ]
        }
      ]
    }
  ]
}